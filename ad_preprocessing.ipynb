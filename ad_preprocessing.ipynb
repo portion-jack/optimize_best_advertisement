{
 "cells": [
  {
   "cell_type": "code",
   "execution_count": 12,
   "metadata": {},
   "outputs": [],
   "source": [
    "import pandas as pd"
   ]
  },
  {
   "cell_type": "code",
   "execution_count": 13,
   "metadata": {},
   "outputs": [],
   "source": [
    "_dict_mapper={'패션의류':'fashion_clothes',\n",
    " '패션잡화':'fashion_etc',\n",
    " '화장품/미용':'cosmetic',\n",
    " '디지털/가전':'electronics',\n",
    " '가구/인테리어':'furnitures',\n",
    " '출산/육아':'baby',\n",
    " '식품':'food',\n",
    " '스포츠/레저':'sports',\n",
    " '생활/건강':'life_health',\n",
    " '여가/생활편의':'convinence',\n",
    " '면세점':'tax_free',\n",
    " '도서':'book'}"
   ]
  },
  {
   "cell_type": "code",
   "execution_count": 14,
   "metadata": {},
   "outputs": [],
   "source": [
    "for value in _dict_mapper.values():\n",
    "    vars()[f'df_{value}'] = pd.read_csv(f'raw_data/df_{value}.csv',index_col=0)\n",
    "    vars()[f'df_{value}_main']=vars()[f'df_{value}'][(vars()[f'df_{value}']['월간검색수_PC']>1000) & (vars()[f'df_{value}']['월간검색수_모바일']>1000)]\n",
    "    vars()[f'df_{value}_main'].to_csv(f'raw_data/main/df_{value}_main.csv')"
   ]
  }
 ],
 "metadata": {
  "kernelspec": {
   "display_name": "Python 3.10.6 ('_main_')",
   "language": "python",
   "name": "python3"
  },
  "language_info": {
   "codemirror_mode": {
    "name": "ipython",
    "version": 3
   },
   "file_extension": ".py",
   "mimetype": "text/x-python",
   "name": "python",
   "nbconvert_exporter": "python",
   "pygments_lexer": "ipython3",
   "version": "3.10.6"
  },
  "orig_nbformat": 4,
  "vscode": {
   "interpreter": {
    "hash": "f9ca386e56d49278b6ea12f82eaf9b61b560a06508ab91168865c26e31a97cc6"
   }
  }
 },
 "nbformat": 4,
 "nbformat_minor": 2
}
