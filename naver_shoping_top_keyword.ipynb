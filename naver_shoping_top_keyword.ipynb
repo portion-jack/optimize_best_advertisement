{
 "cells": [
  {
   "cell_type": "code",
   "execution_count": 1,
   "metadata": {},
   "outputs": [],
   "source": [
    "import time\n",
    "import pickle\n",
    "\n",
    "import selenium\n",
    "from webdriver_manager.chrome import ChromeDriverManager\n",
    "\n",
    "from selenium import webdriver\n",
    "from selenium.webdriver.chrome.service import Service\n",
    "from selenium.webdriver.common.by import By \n",
    "import bs4"
   ]
  },
  {
   "cell_type": "code",
   "execution_count": 2,
   "metadata": {},
   "outputs": [],
   "source": [
    "# 데이터랩 홈페이지 열기\n",
    "\n",
    "url = \"https://datalab.naver.com/\"\n",
    "d_path = r\"/Users/jack/utils/chromedriver\"\n",
    "s = Service(d_path)\n",
    "driver = webdriver.Chrome(service=s)\n",
    "driver.get(url=url)\n",
    "time.sleep(1)\n",
    "\n",
    "total_dict = dict()\n",
    "for i in range(1,13):\n",
    "    # 데이터랩 홈페이지에서 분야별 목록 열기\n",
    "    n_path='//*[@id=\"content\"]/div[1]/div[3]/div[1]/a'\n",
    "    driver.find_element(by=By.XPATH,value=n_path).click()\n",
    "    time.sleep(1)\n",
    "    \n",
    "    # 분야 1번 부터 12번까지 존재 i번 열기\n",
    "    n_path=f'//*[@id=\"content\"]/div[1]/div[3]/div[1]/ul/li[{i}]/a'\n",
    "    driver.find_element(by=By.XPATH,value=n_path).click()\n",
    "    time.sleep(1)\n",
    "\n",
    "    # 분야이름 변수명으로 지정\n",
    "    n_path = '//*[@id=\"content\"]/div[1]/div[3]/div[1]/a'\n",
    "    temp = driver.find_element(by=By.XPATH,value=n_path)\n",
    "    temp.text\n",
    "    vars()[temp.text] = list()\n",
    "    time.sleep(1)\n",
    "    \n",
    "    # 분야의 top10 가져와서 append\n",
    "    for j in range(1,11):\n",
    "        n_path = f'//*[@id=\"content\"]/div[1]/div[4]/div/div[1]/div/div/div[12]/div/div/ul/li[{j}]/a/span'\n",
    "        temp_attr = driver.find_element(by=By.XPATH,value=n_path)\n",
    "        vars()[temp.text].append(temp_attr.text)\n",
    "    \n",
    "    total_dict[temp.text] = vars()[temp.text]\n",
    "driver.close()\n",
    "\n",
    "# 24*60*60 = 86400\n",
    "yst=time.localtime(time.time() - 86400)\n",
    "\n",
    "with open(f'raw_data/daily_trend/{yst.tm_year}_{yst.tm_mon}_{yst.tm_mday}.pickle','wb') as f:\n",
    "    pickle.dump(total_dict,f)"
   ]
  }
 ],
 "metadata": {
  "kernelspec": {
   "display_name": "Python 3.10.6 ('crawling')",
   "language": "python",
   "name": "python3"
  },
  "language_info": {
   "codemirror_mode": {
    "name": "ipython",
    "version": 3
   },
   "file_extension": ".py",
   "mimetype": "text/x-python",
   "name": "python",
   "nbconvert_exporter": "python",
   "pygments_lexer": "ipython3",
   "version": "3.10.6"
  },
  "orig_nbformat": 4,
  "vscode": {
   "interpreter": {
    "hash": "10621530bc52bc3dcaea48e2b7ef028942e35d2e6e9c9234a88fefd069caf90f"
   }
  }
 },
 "nbformat": 4,
 "nbformat_minor": 2
}
